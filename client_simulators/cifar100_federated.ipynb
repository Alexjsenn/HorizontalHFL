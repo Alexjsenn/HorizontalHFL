{
  "nbformat": 4,
  "nbformat_minor": 5,
  "metadata": {
    "accelerator": "GPU",
    "colab": {
      "name": "cifar100-federated.ipynb",
      "provenance": [],
      "collapsed_sections": []
    },
    "kernelspec": {
      "display_name": "Python 3 (ipykernel)",
      "language": "python",
      "name": "python3"
    },
    "language_info": {
      "codemirror_mode": {
        "name": "ipython",
        "version": 3
      },
      "file_extension": ".py",
      "mimetype": "text/x-python",
      "name": "python",
      "nbconvert_exporter": "python",
      "pygments_lexer": "ipython3",
      "version": "3.9.7"
    }
  },
  "cells": [
    {
      "cell_type": "code",
      "metadata": {
        "colab": {
          "base_uri": "https://localhost:8080/"
        },
        "id": "6f2c9341",
        "outputId": "a2d6fb7b-e548-48e8-b544-f0ff9ee4f986"
      },
      "source": [
        "import torch\n",
        "import torch.nn as nn\n",
        "import torch.nn.functional as F\n",
        "import torch.optim as optim\n",
        "from torch.utils.data import Dataset, DataLoader\n",
        "import torchvision.models as models\n",
        "from sklearn.metrics import accuracy_score\n",
        "\n",
        "import pickle\n",
        "import numpy\n",
        "from numpy import vstack\n",
        "import math\n",
        "\n",
        "from numpy.random import default_rng\n",
        "%matplotlib inline \n",
        "from matplotlib import pyplot as plt\n",
        "from google.colab import drive\n",
        "drive.mount('/content/drive')\n",
        "\n",
        "rng = default_rng()\n",
        "print(torch.cuda.get_device_name(0))"
      ],
      "id": "6f2c9341",
      "execution_count": 1,
      "outputs": [
        {
          "output_type": "stream",
          "name": "stdout",
          "text": [
            "Mounted at /content/drive\n",
            "Tesla K80\n"
          ]
        }
      ]
    },
    {
      "cell_type": "code",
      "metadata": {
        "id": "a589ef7b"
      },
      "source": [
        "dir_path = \"/content/drive/My Drive/Capstone\"\n",
        "def unpickle(file):\n",
        "    with open(file, 'rb') as fo:\n",
        "        dict = pickle.load(fo, encoding='bytes')\n",
        "    return dict\n",
        "\n",
        "metadata = unpickle(dir_path + '/cifar-100-python/meta')\n",
        "trainDataDict = unpickle(dir_path + '/cifar-100-python/train')\n",
        "testDataDict = unpickle(dir_path + '/cifar-100-python/test')"
      ],
      "id": "a589ef7b",
      "execution_count": 2,
      "outputs": []
    },
    {
      "cell_type": "code",
      "metadata": {
        "colab": {
          "base_uri": "https://localhost:8080/"
        },
        "id": "15b4b7b3",
        "scrolled": true,
        "outputId": "a9e4cfe9-b75b-4a90-d1ea-e7fc75d3c78e"
      },
      "source": [
        "print(len(metadata[b'fine_label_names']))\n",
        "print(len(metadata[b'coarse_label_names']))\n",
        "print(len(trainDataDict))\n",
        "print(len(testDataDict))\n",
        "print(trainDataDict.keys())\n",
        "#len(trainData[b'fine_labels'])\n",
        "len(trainDataDict[b'fine_labels'])"
      ],
      "id": "15b4b7b3",
      "execution_count": 3,
      "outputs": [
        {
          "output_type": "stream",
          "name": "stdout",
          "text": [
            "100\n",
            "20\n",
            "5\n",
            "5\n",
            "dict_keys([b'filenames', b'batch_label', b'fine_labels', b'coarse_labels', b'data'])\n"
          ]
        },
        {
          "output_type": "execute_result",
          "data": {
            "text/plain": [
              "50000"
            ]
          },
          "metadata": {},
          "execution_count": 3
        }
      ]
    },
    {
      "cell_type": "code",
      "metadata": {
        "id": "3d200a3a"
      },
      "source": [
        "def partitionClients(numClients, dataDict):\n",
        "    classDist = [0.1 for i in range(numClients)]\n",
        "    # trainDataByClient is a list of lists. Each inner list contains all the indexes of images that belong to that client\n",
        "    trainDataByClientIdxs = []\n",
        "    # Initialize list of dicts\n",
        "    for i in range(numClients):\n",
        "        trainDataByClientIdxs.append([])\n",
        "\n",
        "    for labelClass in range(100):\n",
        "        clientDist = rng.dirichlet(classDist)\n",
        "            \n",
        "        dataIdx = 0\n",
        "        for client in range(numClients):\n",
        "            totalImgs = math.floor(clientDist[client]*(len(dataDict[b'fine_labels'])/100))\n",
        "            if (totalImgs == 0):\n",
        "                continue\n",
        "            imgsSaved = 0\n",
        "\n",
        "            while (dataIdx < len(dataDict[b'fine_labels'])):\n",
        "                # Find images with label labelClass\n",
        "                if (dataDict[b'fine_labels'][dataIdx] == labelClass):\n",
        "                    trainDataByClientIdxs[client].append(dataIdx)\n",
        "                    imgsSaved += 1\n",
        "                dataIdx += 1\n",
        "                if (imgsSaved == totalImgs):\n",
        "                    break\n",
        "\n",
        "            if (imgsSaved != totalImgs):\n",
        "                print(\"class: \", labelClass, \"ran out of images\")\n",
        "                \n",
        "    return trainDataByClientIdxs\n"
      ],
      "id": "3d200a3a",
      "execution_count": 4,
      "outputs": []
    },
    {
      "cell_type": "code",
      "metadata": {
        "id": "20f136fa"
      },
      "source": [
        "trainDataIdx = partitionClients(20, trainDataDict)\n",
        "testDataIdx = partitionClients(20, testDataDict)"
      ],
      "id": "20f136fa",
      "execution_count": 5,
      "outputs": []
    },
    {
      "cell_type": "code",
      "metadata": {
        "colab": {
          "base_uri": "https://localhost:8080/",
          "height": 300
        },
        "id": "7bff10ac",
        "outputId": "f8252af0-dc2e-46a7-d087-2703d155f649"
      },
      "source": [
        "img = trainDataDict[b'data'][1].reshape(3,32,32)\n",
        "print(metadata[b'fine_label_names'][trainDataDict[b'fine_labels'][1]])\n",
        "img = numpy.moveaxis(img, 0, 2)\n",
        "plt.imshow(img, interpolation='nearest')"
      ],
      "id": "7bff10ac",
      "execution_count": 6,
      "outputs": [
        {
          "output_type": "stream",
          "name": "stdout",
          "text": [
            "b'dinosaur'\n"
          ]
        },
        {
          "output_type": "execute_result",
          "data": {
            "text/plain": [
              "<matplotlib.image.AxesImage at 0x7f37accdef50>"
            ]
          },
          "metadata": {},
          "execution_count": 6
        },
        {
          "output_type": "display_data",
          "data": {
            "image/png": "[encoded data removed]",
            "text/plain": [
              "<Figure size 432x288 with 1 Axes>"
            ]
          },
          "metadata": {
            "needs_background": "light"
          }
        }
      ]
    },
    {
      "cell_type": "code",
      "metadata": {
        "id": "1c0c0c3c"
      },
      "source": [
        "class FEDCIFAR100Dataset(Dataset):\n",
        "  def __init__(self, dataDict, clientIdxArr):\n",
        "    self.data = dataDict\n",
        "    self.idxArr = clientIdxArr\n",
        "    self.len = len(self.idxArr)\n",
        "\n",
        "  def __len__(self):\n",
        "    return self.len\n",
        "  \n",
        "  def __getitem__(self, idx):\n",
        "    dataIdx = self.idxArr[idx]\n",
        "    image = self.data[b'data'][dataIdx]\n",
        "    img_tensor = torch.from_numpy(image.reshape(3,32,32)).float()\n",
        "    label_id = torch.tensor(self.data[b'fine_labels'][dataIdx])\n",
        "    return img_tensor.to(device), label_id.to(device)"
      ],
      "id": "1c0c0c3c",
      "execution_count": 7,
      "outputs": []
    },
    {
      "cell_type": "code",
      "metadata": {
        "id": "cd489992"
      },
      "source": [
        "trainData = FEDCIFAR100Dataset(trainDataDict, trainDataIdx[1])\n",
        "testData = FEDCIFAR100Dataset(testDataDict, testDataIdx[1])\n",
        "trainLoader = DataLoader(trainData, batch_size=64)\n",
        "testLoader = DataLoader(testData, batch_size=1024)"
      ],
      "id": "cd489992",
      "execution_count": 8,
      "outputs": []
    },
    {
      "cell_type": "code",
      "metadata": {
        "id": "iRN_8LemPGVb"
      },
      "source": [
        "allTrainData = [i for i in range(50000)]\n",
        "allTestData = [i for i in range(10000)]\n",
        "allTrainData = FEDCIFAR100Dataset(trainDataDict, allTrainData)\n",
        "allTestData = FEDCIFAR100Dataset(testDataDict, allTestData)\n",
        "allTrainLoader = DataLoader(allTrainData, batch_size=64)\n",
        "allTestLoader = DataLoader(allTestData, batch_size=1024)"
      ],
      "id": "iRN_8LemPGVb",
      "execution_count": null,
      "outputs": []
    },
    {
      "cell_type": "code",
      "metadata": {
        "id": "80f2f164"
      },
      "source": [
        "def train_model(trainLoader, testLoader, model, epochs):\n",
        "    model.train()\n",
        "    criterion = nn.CrossEntropyLoss()\n",
        "    optimizer = optim.Adam(model.parameters(), lr=0.01)\n",
        "    # enumerate epochs\n",
        "    for epoch in range(epochs):\n",
        "        print(f'Epoch {epoch}')\n",
        "        # enumerate mini batches\n",
        "        for i, (inputs, targets) in enumerate(trainLoader):\n",
        "            # clear the gradients\n",
        "            optimizer.zero_grad()\n",
        "            # compute the model output\n",
        "            outputs = model(inputs)\n",
        "            # calculate loss\n",
        "            loss = criterion(outputs, targets)\n",
        "            # credit assignment\n",
        "            loss.backward()\n",
        "            # update model weights\n",
        "            optimizer.step()\n",
        "        evaluate_model(testLoader, model, criterion)\n",
        "        \n",
        "# evaluate the model\n",
        "def evaluate_model(testLoader, model, criterion):\n",
        "    with torch.no_grad():\n",
        "      model.eval()\n",
        "      totalPreds = 0\n",
        "      correctPreds = 0\n",
        "      for i, (inputs, targets) in enumerate(testLoader):\n",
        "          # evaluate the model on the test set\n",
        "          outputs = model(inputs)\n",
        "          loss = criterion(outputs, targets)\n",
        "\n",
        "          _,predictions = torch.max(outputs, dim=1)\n",
        "          correctPreds += torch.sum(predictions==targets).item()\n",
        "          totalPreds += targets.size(0)\n",
        "\n",
        "      # calculate accuracy\n",
        "      acc = 100 * correctPreds/totalPreds\n",
        "      print(f'Test accuracy: {(100*correctPreds/totalPreds):.2f}%\\n')"
      ],
      "id": "80f2f164",
      "execution_count": 15,
      "outputs": []
    },
    {
      "cell_type": "code",
      "metadata": {
        "colab": {
          "base_uri": "https://localhost:8080/"
        },
        "id": "0cf26fa8",
        "outputId": "b0a38986-2fce-4e90-d6bf-f3ab32e10a11"
      },
      "source": [
        "device = 'cuda' if torch.cuda.is_available() else 'cpu'\n",
        "          \n",
        "\n",
        "model = models.resnet50(pretrained=True)\n",
        "ftrs = model.fc.in_features\n",
        "model.fc = nn.Linear(ftrs, 100)\n",
        "model = model.to(device)\n",
        "train_model(trainLoader, testLoader, model, 50)"
      ],
      "id": "0cf26fa8",
      "execution_count": 18,
      "outputs": [
        {
          "output_type": "stream",
          "name": "stdout",
          "text": [
            "Epoch 0\n",
            "Test accuracy: 0.30%\n",
            "\n",
            "Epoch 1\n",
            "Test accuracy: 0.00%\n",
            "\n",
            "Epoch 2\n",
            "Test accuracy: 0.00%\n",
            "\n",
            "Epoch 3\n",
            "Test accuracy: 0.00%\n",
            "\n",
            "Epoch 4\n",
            "Test accuracy: 5.17%\n",
            "\n",
            "Epoch 5\n",
            "Test accuracy: 0.00%\n",
            "\n",
            "Epoch 6\n",
            "Test accuracy: 0.00%\n",
            "\n",
            "Epoch 7\n",
            "Test accuracy: 0.00%\n",
            "\n",
            "Epoch 8\n",
            "Test accuracy: 0.00%\n",
            "\n",
            "Epoch 9\n",
            "Test accuracy: 0.00%\n",
            "\n",
            "Epoch 10\n",
            "Test accuracy: 0.00%\n",
            "\n",
            "Epoch 11\n",
            "Test accuracy: 5.17%\n",
            "\n",
            "Epoch 12\n",
            "Test accuracy: 5.17%\n",
            "\n",
            "Epoch 13\n",
            "Test accuracy: 0.30%\n",
            "\n",
            "Epoch 14\n",
            "Test accuracy: 1.52%\n",
            "\n",
            "Epoch 15\n",
            "Test accuracy: 1.52%\n",
            "\n",
            "Epoch 16\n",
            "Test accuracy: 1.52%\n",
            "\n",
            "Epoch 17\n",
            "Test accuracy: 1.52%\n",
            "\n",
            "Epoch 18\n",
            "Test accuracy: 1.52%\n",
            "\n",
            "Epoch 19\n",
            "Test accuracy: 1.52%\n",
            "\n",
            "Epoch 20\n",
            "Test accuracy: 1.52%\n",
            "\n",
            "Epoch 21\n",
            "Test accuracy: 1.52%\n",
            "\n",
            "Epoch 22\n",
            "Test accuracy: 1.52%\n",
            "\n",
            "Epoch 23\n",
            "Test accuracy: 1.52%\n",
            "\n",
            "Epoch 24\n",
            "Test accuracy: 1.52%\n",
            "\n",
            "Epoch 25\n",
            "Test accuracy: 1.52%\n",
            "\n",
            "Epoch 26\n",
            "Test accuracy: 1.52%\n",
            "\n",
            "Epoch 27\n",
            "Test accuracy: 1.52%\n",
            "\n",
            "Epoch 28\n",
            "Test accuracy: 1.52%\n",
            "\n",
            "Epoch 29\n",
            "Test accuracy: 1.52%\n",
            "\n",
            "Epoch 30\n",
            "Test accuracy: 1.52%\n",
            "\n",
            "Epoch 31\n",
            "Test accuracy: 1.52%\n",
            "\n",
            "Epoch 32\n",
            "Test accuracy: 1.52%\n",
            "\n",
            "Epoch 33\n",
            "Test accuracy: 1.52%\n",
            "\n",
            "Epoch 34\n",
            "Test accuracy: 1.52%\n",
            "\n",
            "Epoch 35\n",
            "Test accuracy: 1.52%\n",
            "\n",
            "Epoch 36\n",
            "Test accuracy: 1.52%\n",
            "\n",
            "Epoch 37\n",
            "Test accuracy: 1.52%\n",
            "\n",
            "Epoch 38\n",
            "Test accuracy: 1.52%\n",
            "\n",
            "Epoch 39\n",
            "Test accuracy: 1.52%\n",
            "\n",
            "Epoch 40\n",
            "Test accuracy: 1.52%\n",
            "\n",
            "Epoch 41\n",
            "Test accuracy: 1.52%\n",
            "\n",
            "Epoch 42\n",
            "Test accuracy: 1.52%\n",
            "\n",
            "Epoch 43\n",
            "Test accuracy: 1.52%\n",
            "\n",
            "Epoch 44\n",
            "Test accuracy: 1.52%\n",
            "\n",
            "Epoch 45\n",
            "Test accuracy: 1.52%\n",
            "\n",
            "Epoch 46\n",
            "Test accuracy: 1.52%\n",
            "\n",
            "Epoch 47\n",
            "Test accuracy: 1.52%\n",
            "\n",
            "Epoch 48\n",
            "Test accuracy: 1.52%\n",
            "\n",
            "Epoch 49\n",
            "Test accuracy: 1.52%\n",
            "\n"
          ]
        }
      ]
    }
  ]
}