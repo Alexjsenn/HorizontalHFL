{
  "nbformat": 4,
  "nbformat_minor": 5,
  "metadata": {
    "accelerator": "GPU",
    "colab": {
      "name": "cifar100-federated.ipynb",
      "provenance": [],
      "collapsed_sections": []
    },
    "kernelspec": {
      "display_name": "Python 3 (ipykernel)",
      "language": "python",
      "name": "python3"
    },
    "language_info": {
      "codemirror_mode": {
        "name": "ipython",
        "version": 3
      },
      "file_extension": ".py",
      "mimetype": "text/x-python",
      "name": "python",
      "nbconvert_exporter": "python",
      "pygments_lexer": "ipython3",
      "version": "3.9.7"
    }
  },
  "cells": [
    {
      "cell_type": "code",
      "metadata": {
        "colab": {
          "base_uri": "https://localhost:8080/"
        },
        "id": "6f2c9341",
        "outputId": "9fc84fc3-c6a9-48e7-96a5-f9391327126e"
      },
      "source": [
        "import torch\n",
        "import torch.nn as nn\n",
        "import torch.nn.functional as F\n",
        "import torch.optim as optim\n",
        "from torch.utils.data import Dataset, DataLoader\n",
        "import torchvision.models as models\n",
        "import torchvision.transforms as transforms\n",
        "from sklearn.metrics import accuracy_score\n",
        "\n",
        "import pickle\n",
        "import numpy\n",
        "from numpy import vstack\n",
        "import math\n",
        "\n",
        "from numpy.random import default_rng\n",
        "%matplotlib inline \n",
        "from matplotlib import pyplot as plt\n",
        "from google.colab import drive\n",
        "drive.mount('/content/drive')\n",
        "\n",
        "rng = default_rng()\n",
        "print(torch.cuda.get_device_name(0))"
      ],
      "id": "6f2c9341",
      "execution_count": null,
      "outputs": [
        {
          "output_type": "stream",
          "name": "stdout",
          "text": [
            "Mounted at /content/drive\n",
            "Tesla K80\n"
          ]
        }
      ]
    },
    {
      "cell_type": "code",
      "metadata": {
        "id": "a589ef7b"
      },
      "source": [
        "dir_path = \"/content/drive/My Drive/Capstone\"\n",
        "def unpickle(file):\n",
        "    with open(file, 'rb') as fo:\n",
        "        dict = pickle.load(fo, encoding='bytes')\n",
        "    return dict\n",
        "\n",
        "metadata = unpickle(dir_path + '/cifar-100-python/meta')\n",
        "trainDataDict = unpickle(dir_path + '/cifar-100-python/train')\n",
        "testDataDict = unpickle(dir_path + '/cifar-100-python/test')"
      ],
      "id": "a589ef7b",
      "execution_count": null,
      "outputs": []
    },
    {
      "cell_type": "code",
      "metadata": {
        "colab": {
          "base_uri": "https://localhost:8080/"
        },
        "id": "15b4b7b3",
        "scrolled": true,
        "outputId": "ccf699c7-b711-458a-abdf-7fc693fa1843"
      },
      "source": [
        "print(len(metadata[b'fine_label_names']))\n",
        "print(len(metadata[b'coarse_label_names']))\n",
        "print(len(trainDataDict))\n",
        "print(len(testDataDict))\n",
        "print(trainDataDict.keys())\n",
        "#len(trainData[b'fine_labels'])\n",
        "len(trainDataDict[b'fine_labels'])"
      ],
      "id": "15b4b7b3",
      "execution_count": null,
      "outputs": [
        {
          "output_type": "stream",
          "name": "stdout",
          "text": [
            "100\n",
            "20\n",
            "5\n",
            "5\n",
            "dict_keys([b'filenames', b'batch_label', b'fine_labels', b'coarse_labels', b'data'])\n"
          ]
        },
        {
          "output_type": "execute_result",
          "data": {
            "text/plain": [
              "50000"
            ]
          },
          "metadata": {},
          "execution_count": 3
        }
      ]
    },
    {
      "cell_type": "code",
      "metadata": {
        "id": "3d200a3a"
      },
      "source": [
        "def partitionClients(numClients, dataDict):\n",
        "    classDist = [1 for i in range(numClients)]\n",
        "    # trainDataByClient is a list of lists. Each inner list contains all the indexes of images that belong to that client\n",
        "    trainDataByClientIdxs = []\n",
        "    # Initialize list of dicts\n",
        "    for i in range(numClients):\n",
        "        trainDataByClientIdxs.append([])\n",
        "\n",
        "    for labelClass in range(100):\n",
        "        clientDist = rng.dirichlet(classDist)\n",
        "            \n",
        "        dataIdx = 0\n",
        "        for client in range(numClients):\n",
        "            totalImgs = math.floor(clientDist[client]*(len(dataDict[b'fine_labels'])/100))\n",
        "            if (totalImgs == 0):\n",
        "                continue\n",
        "            imgsSaved = 0\n",
        "\n",
        "            while (dataIdx < len(dataDict[b'fine_labels'])):\n",
        "                # Find images with label labelClass\n",
        "                if (dataDict[b'fine_labels'][dataIdx] == labelClass):\n",
        "                    trainDataByClientIdxs[client].append(dataIdx)\n",
        "                    imgsSaved += 1\n",
        "                dataIdx += 1\n",
        "                if (imgsSaved == totalImgs):\n",
        "                    break\n",
        "\n",
        "            if (imgsSaved != totalImgs):\n",
        "                print(\"class: \", labelClass, \"ran out of images\")\n",
        "                \n",
        "    return trainDataByClientIdxs\n"
      ],
      "id": "3d200a3a",
      "execution_count": null,
      "outputs": []
    },
    {
      "cell_type": "code",
      "metadata": {
        "id": "20f136fa"
      },
      "source": [
        "trainDataIdx = partitionClients(10, trainDataDict)\n",
        "testDataIdx = partitionClients(10, testDataDict)"
      ],
      "id": "20f136fa",
      "execution_count": null,
      "outputs": []
    },
    {
      "cell_type": "code",
      "metadata": {
        "colab": {
          "base_uri": "https://localhost:8080/",
          "height": 300
        },
        "id": "7bff10ac",
        "outputId": "3522e22c-0670-4d4d-f9e2-871f8768cc1d"
      },
      "source": [
        "img = trainDataDict[b'data'][1].reshape(3,32,32)\n",
        "print(metadata[b'fine_label_names'][trainDataDict[b'fine_labels'][1]])\n",
        "img = numpy.moveaxis(img, 0, 2)\n",
        "plt.imshow(img, interpolation='nearest')"
      ],
      "id": "7bff10ac",
      "execution_count": null,
      "outputs": [
        {
          "output_type": "stream",
          "name": "stdout",
          "text": [
            "b'dinosaur'\n"
          ]
        },
        {
          "output_type": "execute_result",
          "data": {
            "text/plain": [
              "<matplotlib.image.AxesImage at 0x7fbbba9e9c50>"
            ]
          },
          "metadata": {},
          "execution_count": 6
        },
        {
          "output_type": "display_data",
          "data": {
            "image/png": "[encoded data removed]",
            "text/plain": [
              "<Figure size 432x288 with 1 Axes>"
            ]
          },
          "metadata": {
            "needs_background": "light"
          }
        }
      ]
    },
    {
      "cell_type": "code",
      "metadata": {
        "id": "1c0c0c3c"
      },
      "source": [
        "class FEDCIFAR100Dataset(Dataset):\n",
        "  def __init__(self, dataDict, clientIdxArr, transform):\n",
        "    self.data = dataDict\n",
        "    self.idxArr = clientIdxArr\n",
        "    self.len = len(self.idxArr)\n",
        "    self.transform = transform\n",
        "\n",
        "  def __len__(self):\n",
        "    return self.len\n",
        "  \n",
        "  def __getitem__(self, idx):\n",
        "    dataIdx = self.idxArr[idx]\n",
        "    image = self.data[b'data'][dataIdx]\n",
        "    img_tensor = torch.from_numpy(image.reshape(3,32,32)).float()\n",
        "    if self.transform:\n",
        "      img_tensor = self.transform(img_tensor)\n",
        "    label_id = torch.tensor(self.data[b'fine_labels'][dataIdx])\n",
        "    return img_tensor, label_id"
      ],
      "id": "1c0c0c3c",
      "execution_count": null,
      "outputs": []
    },
    {
      "cell_type": "code",
      "metadata": {
        "colab": {
          "base_uri": "https://localhost:8080/"
        },
        "id": "cd489992",
        "outputId": "f6733bd4-3f18-4e42-dd4d-8f869437cf0f"
      },
      "source": [
        "transform=transforms.Compose([transforms.RandomHorizontalFlip(),\n",
        "                              transforms.RandomCrop(32, padding=4, padding_mode='reflect'),\n",
        "                              transforms.Normalize((129.30428, 124.07023, 112.43411),(68.17024, 65.391785, 70.4184))])\n",
        "clientNr = 6\n",
        "trainData = FEDCIFAR100Dataset(trainDataDict, trainDataIdx[clientNr], transform=transform)\n",
        "testData = FEDCIFAR100Dataset(testDataDict, testDataIdx[clientNr], transform=transform)\n",
        "trainLoader = DataLoader(trainData, batch_size=256, shuffle=True)\n",
        "testLoader = DataLoader(testData, batch_size=1024)\n",
        "print(len(trainDataIdx[clientNr]))\n",
        "print(len(testDataIdx[clientNr]))"
      ],
      "id": "cd489992",
      "execution_count": 12,
      "outputs": [
        {
          "output_type": "stream",
          "name": "stdout",
          "text": [
            "5259\n",
            "796\n"
          ]
        }
      ]
    },
    {
      "cell_type": "code",
      "metadata": {
        "id": "iRN_8LemPGVb"
      },
      "source": [
        "allTrainData = [i for i in range(50000)]\n",
        "allTestData = [i for i in range(10000)]\n",
        "allTrainData = FEDCIFAR100Dataset(trainDataDict, allTrainData, transform=transform)\n",
        "allTestData = FEDCIFAR100Dataset(testDataDict, allTestData, transform=transform)\n",
        "allTrainLoader = DataLoader(allTrainData, batch_size=256)\n",
        "allTestLoader = DataLoader(allTestData, batch_size=1024)"
      ],
      "id": "iRN_8LemPGVb",
      "execution_count": 13,
      "outputs": []
    },
    {
      "cell_type": "code",
      "metadata": {
        "colab": {
          "base_uri": "https://localhost:8080/"
        },
        "id": "1GmX1Bv2v5w4",
        "outputId": "ec418b8b-14e9-457c-d8b1-4be305b3cc9a"
      },
      "source": [
        "imgs = [item[0] for item in allTrainData] # item[0] and item[1] are image and its label\n",
        "imgs = torch.stack(imgs, dim=0).numpy()\n",
        "\n",
        "# calculate mean over each channel (r,g,b)\n",
        "mean_r = imgs[:,0,:,:].mean()\n",
        "mean_g = imgs[:,1,:,:].mean()\n",
        "mean_b = imgs[:,2,:,:].mean()\n",
        "print(mean_r,mean_g,mean_b)\n",
        "\n",
        "# calculate std over each channel (r,g,b)\n",
        "std_r = imgs[:,0,:,:].std()\n",
        "std_g = imgs[:,1,:,:].std()\n",
        "std_b = imgs[:,2,:,:].std()\n",
        "print(std_r,std_g,std_b)"
      ],
      "id": "1GmX1Bv2v5w4",
      "execution_count": null,
      "outputs": [
        {
          "output_type": "stream",
          "name": "stdout",
          "text": [
            "-1.6108942e-06 -4.064479e-06 -8.838749e-07\n",
            "1.0000007 0.99999964 0.9999982\n"
          ]
        }
      ]
    },
    {
      "cell_type": "code",
      "metadata": {
        "id": "-dCbcgPU4SNu"
      },
      "source": [
        ""
      ],
      "id": "-dCbcgPU4SNu",
      "execution_count": null,
      "outputs": []
    },
    {
      "cell_type": "code",
      "metadata": {
        "id": "80f2f164"
      },
      "source": [
        "def train_model(trainLoader, testLoader, model, epochs):\n",
        "    criterion = nn.CrossEntropyLoss()\n",
        "    optimizer = optim.SGD(model.parameters(), lr=0.1, momentum=0.9)\n",
        "    # enumerate epochs\n",
        "    for epoch in range(epochs):\n",
        "        print('Epoch', epoch)\n",
        "        model.train()\n",
        "        # enumerate mini batches\n",
        "        totalLoss = 0;\n",
        "        totalPreds = 0;\n",
        "        correctPreds = 0;\n",
        "        for i, (inputs, targets) in enumerate(trainLoader):\n",
        "            inputs = inputs.to(device)\n",
        "            targets = targets.to(device)\n",
        "            # clear the gradients\n",
        "            optimizer.zero_grad()\n",
        "            # compute the model output\n",
        "            outputs = model(inputs)\n",
        "            _,predictions = torch.max(outputs, dim=1)\n",
        "            correctPreds += torch.sum(predictions==targets).item()\n",
        "            totalPreds += targets.size(0)\n",
        "            # calculate loss\n",
        "            loss = criterion(outputs, targets)\n",
        "            totalLoss += loss;\n",
        "            # credit assignment\n",
        "            loss.backward()\n",
        "            # update model weights\n",
        "            optimizer.step()\n",
        "        \n",
        "        print('Train loss:', '{:.4f}'.format((totalLoss/len(trainLoader))))\n",
        "        if not (epoch+1)%10:\n",
        "          acc = 100 * correctPreds/totalPreds\n",
        "          train_acc_vec.append(acc)\n",
        "          print('Train acc:', '{:.2f}%'.format(acc) )\n",
        "          evaluate_model(testLoader, model, criterion)\n",
        "        \n",
        "# evaluate the model\n",
        "def evaluate_model(testLoader, model, criterion):\n",
        "    with torch.no_grad():\n",
        "      model.eval()\n",
        "      totalPreds = 0\n",
        "      correctPreds = 0\n",
        "      for i, (inputs, targets) in enumerate(testLoader):\n",
        "          inputs = inputs.to(device)\n",
        "          targets = targets.to(device)\n",
        "          # evaluate the model on the test set\n",
        "          outputs = model(inputs)\n",
        "          #loss = criterion(outputs, targets)\n",
        "\n",
        "          _,predictions = torch.max(outputs, dim=1)\n",
        "          correctPreds += torch.sum(predictions==targets).item()\n",
        "          totalPreds += targets.size(0)\n",
        "\n",
        "      # calculate accuracy\n",
        "      acc = 100 * correctPreds/totalPreds\n",
        "      test_acc_vec.append(acc)\n",
        "      print('Test accuracy:', \"{:.2f}\".format(acc), '%')"
      ],
      "id": "80f2f164",
      "execution_count": 14,
      "outputs": []
    },
    {
      "cell_type": "code",
      "metadata": {
        "id": "0cf26fa8"
      },
      "source": [
        "  device = 'cuda' if torch.cuda.is_available() else 'cpu'\n",
        "numpy.random.seed(0)\n",
        "torch.manual_seed(0)\n",
        "\n",
        "train_acc_vec = []\n",
        "test_acc_vec = []\n",
        "\n",
        "model = models.resnet50()\n",
        "#for param in model.parameters():\n",
        "#    param.requires_grad = False\n",
        "ftrs = model.fc.in_features\n",
        "model.fc = nn.Linear(ftrs, 100)\n",
        "model = model.to(device)\n",
        "train_model(allTrainLoader, allTestLoader, model, 200)\n",
        "\n",
        "epochs = range(20)\n",
        "plt.plot(epochs, train_acc_vec, 'g', label='Train accuracy')\n",
        "plt.plot(epochs, test_acc_vec, 'r', label='Test accuracy')\n",
        "plt.title('Training accuracy')\n",
        "plt.xlabel('Epochs')\n",
        "plt.ylabel('Accuracy')\n",
        "plt.legend()\n",
        "plt.show()"
      ],
      "id": "0cf26fa8",
      "execution_count": null,
      "outputs": []
    },
    {
      "cell_type": "code",
      "metadata": {
        "id": "wnML2hTDf-Ke"
      },
      "source": [
        "torch.save(model.state_dict, dir_path + '/cifar100 tuning/models/client6')"
      ],
      "id": "wnML2hTDf-Ke",
      "execution_count": null,
      "outputs": []
    }
  ]
}